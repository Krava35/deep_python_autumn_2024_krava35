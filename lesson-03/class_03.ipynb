{
 "cells": [
  {
   "cell_type": "code",
   "execution_count": 1,
   "id": "d0fde763-cbe9-48d0-b2df-672582156481",
   "metadata": {},
   "outputs": [
    {
     "data": {
      "text/plain": [
       "{'__name__': '__main__',\n",
       " '__doc__': 'Automatically created module for IPython interactive environment',\n",
       " '__package__': None,\n",
       " '__loader__': None,\n",
       " '__spec__': None,\n",
       " '__builtin__': <module 'builtins' (built-in)>,\n",
       " '__builtins__': <module 'builtins' (built-in)>,\n",
       " '_ih': ['', 'globals()'],\n",
       " '_oh': {},\n",
       " '_dh': [PosixPath('/Users/g.kandaurov/projects/deep_python_autumn_2024/lesson-03')],\n",
       " 'In': ['', 'globals()'],\n",
       " 'Out': {},\n",
       " 'get_ipython': <bound method InteractiveShell.get_ipython of <ipykernel.zmqshell.ZMQInteractiveShell object at 0x10a8c39b0>>,\n",
       " 'exit': <IPython.core.autocall.ZMQExitAutocall at 0x10a8f44d0>,\n",
       " 'quit': <IPython.core.autocall.ZMQExitAutocall at 0x10a8f44d0>,\n",
       " 'open': <function _io.open(file, mode='r', buffering=-1, encoding=None, errors=None, newline=None, closefd=True, opener=None)>,\n",
       " '_': '',\n",
       " '__': '',\n",
       " '___': '',\n",
       " '__session__': '/Users/g.kandaurov/projects/deep_python_autumn_2024/lesson-03/Untitled.ipynb',\n",
       " '_i': '',\n",
       " '_ii': '',\n",
       " '_iii': '',\n",
       " '_i1': 'globals()'}"
      ]
     },
     "execution_count": 1,
     "metadata": {},
     "output_type": "execute_result"
    }
   ],
   "source": [
    "globals()"
   ]
  },
  {
   "cell_type": "code",
   "execution_count": 2,
   "id": "ba792c4b-458a-45c9-85c2-57d633560000",
   "metadata": {},
   "outputs": [
    {
     "data": {
      "text/plain": [
       "{'__name__': '__main__',\n",
       " '__doc__': 'Automatically created module for IPython interactive environment',\n",
       " '__package__': None,\n",
       " '__loader__': None,\n",
       " '__spec__': None,\n",
       " '__builtin__': <module 'builtins' (built-in)>,\n",
       " '__builtins__': <module 'builtins' (built-in)>,\n",
       " '_ih': ['', 'globals()', 'locals()'],\n",
       " '_oh': {1: {...}},\n",
       " '_dh': [PosixPath('/Users/g.kandaurov/projects/deep_python_autumn_2024/lesson-03')],\n",
       " 'In': ['', 'globals()', 'locals()'],\n",
       " 'Out': {1: {...}},\n",
       " 'get_ipython': <bound method InteractiveShell.get_ipython of <ipykernel.zmqshell.ZMQInteractiveShell object at 0x10a8c39b0>>,\n",
       " 'exit': <IPython.core.autocall.ZMQExitAutocall at 0x10a8f44d0>,\n",
       " 'quit': <IPython.core.autocall.ZMQExitAutocall at 0x10a8f44d0>,\n",
       " 'open': <function _io.open(file, mode='r', buffering=-1, encoding=None, errors=None, newline=None, closefd=True, opener=None)>,\n",
       " '_': {...},\n",
       " '__': '',\n",
       " '___': '',\n",
       " '__session__': '/Users/g.kandaurov/projects/deep_python_autumn_2024/lesson-03/Untitled.ipynb',\n",
       " '_i': 'globals()',\n",
       " '_ii': '',\n",
       " '_iii': '',\n",
       " '_i1': 'globals()',\n",
       " '_1': {...},\n",
       " '_i2': 'locals()'}"
      ]
     },
     "execution_count": 2,
     "metadata": {},
     "output_type": "execute_result"
    }
   ],
   "source": [
    "locals()"
   ]
  },
  {
   "cell_type": "code",
   "execution_count": 3,
   "id": "b7f71f5e-23fe-48a8-8589-531c32ebc3e7",
   "metadata": {},
   "outputs": [
    {
     "data": {
      "text/plain": [
       "True"
      ]
     },
     "execution_count": 3,
     "metadata": {},
     "output_type": "execute_result"
    }
   ],
   "source": [
    "globals() is locals()"
   ]
  },
  {
   "cell_type": "code",
   "execution_count": 4,
   "id": "bd36a167-7aa0-4ed0-bdfc-490c0e33dd5d",
   "metadata": {},
   "outputs": [
    {
     "ename": "NameError",
     "evalue": "name 'qwerty' is not defined",
     "output_type": "error",
     "traceback": [
      "\u001b[0;31m---------------------------------------------------------------------------\u001b[0m",
      "\u001b[0;31mNameError\u001b[0m                                 Traceback (most recent call last)",
      "Cell \u001b[0;32mIn[4], line 1\u001b[0m\n\u001b[0;32m----> 1\u001b[0m \u001b[43mqwerty\u001b[49m\n",
      "\u001b[0;31mNameError\u001b[0m: name 'qwerty' is not defined"
     ]
    }
   ],
   "source": [
    "qwerty"
   ]
  },
  {
   "cell_type": "code",
   "execution_count": 5,
   "id": "9464df0c-df32-4028-9861-6d29013869ce",
   "metadata": {},
   "outputs": [],
   "source": [
    "globs = globals()\n",
    "globs[\"qwerty\"] = \"ranrdon\""
   ]
  },
  {
   "cell_type": "code",
   "execution_count": 6,
   "id": "bdb7f179-515f-46db-a1bb-31142ea4cc41",
   "metadata": {},
   "outputs": [
    {
     "data": {
      "text/plain": [
       "'ranrdon'"
      ]
     },
     "execution_count": 6,
     "metadata": {},
     "output_type": "execute_result"
    }
   ],
   "source": [
    "qwerty"
   ]
  },
  {
   "cell_type": "code",
   "execution_count": 7,
   "id": "d7f3b97b-6c40-48b8-ab07-ab7aa4fa55fc",
   "metadata": {},
   "outputs": [
    {
     "data": {
      "text/plain": [
       "True"
      ]
     },
     "execution_count": 7,
     "metadata": {},
     "output_type": "execute_result"
    }
   ],
   "source": [
    "\"qwerty\" in globals()"
   ]
  },
  {
   "cell_type": "code",
   "execution_count": 8,
   "id": "565ec320-cd88-48a7-98d6-fb554e1b1ecc",
   "metadata": {},
   "outputs": [],
   "source": [
    "globs[\"@@ dwjd === !!\"] = \"invalid name\""
   ]
  },
  {
   "cell_type": "code",
   "execution_count": 9,
   "id": "7f8e9c11-3fa4-4527-86cc-31f470405478",
   "metadata": {},
   "outputs": [
    {
     "data": {
      "text/plain": [
       "{'__name__': '__main__',\n",
       " '__doc__': 'Automatically created module for IPython interactive environment',\n",
       " '__package__': None,\n",
       " '__loader__': None,\n",
       " '__spec__': None,\n",
       " '__builtin__': <module 'builtins' (built-in)>,\n",
       " '__builtins__': <module 'builtins' (built-in)>,\n",
       " '_ih': ['',\n",
       "  'globals()',\n",
       "  'locals()',\n",
       "  'globals() is locals()',\n",
       "  'qwerty',\n",
       "  'globs = globals()\\nglobs[\"qwerty\"] = \"ranrdon\"',\n",
       "  'qwerty',\n",
       "  '\"qwerty\" in globals()',\n",
       "  'globs[\"@@ dwjd === !!\"] = \"invalid name\"',\n",
       "  'globals()'],\n",
       " '_oh': {1: {...}, 2: {...}, 3: True, 6: 'ranrdon', 7: True},\n",
       " '_dh': [PosixPath('/Users/g.kandaurov/projects/deep_python_autumn_2024/lesson-03')],\n",
       " 'In': ['',\n",
       "  'globals()',\n",
       "  'locals()',\n",
       "  'globals() is locals()',\n",
       "  'qwerty',\n",
       "  'globs = globals()\\nglobs[\"qwerty\"] = \"ranrdon\"',\n",
       "  'qwerty',\n",
       "  '\"qwerty\" in globals()',\n",
       "  'globs[\"@@ dwjd === !!\"] = \"invalid name\"',\n",
       "  'globals()'],\n",
       " 'Out': {1: {...}, 2: {...}, 3: True, 6: 'ranrdon', 7: True},\n",
       " 'get_ipython': <bound method InteractiveShell.get_ipython of <ipykernel.zmqshell.ZMQInteractiveShell object at 0x10a8c39b0>>,\n",
       " 'exit': <IPython.core.autocall.ZMQExitAutocall at 0x10a8f44d0>,\n",
       " 'quit': <IPython.core.autocall.ZMQExitAutocall at 0x10a8f44d0>,\n",
       " 'open': <function _io.open(file, mode='r', buffering=-1, encoding=None, errors=None, newline=None, closefd=True, opener=None)>,\n",
       " '_': True,\n",
       " '__': 'ranrdon',\n",
       " '___': True,\n",
       " '__session__': '/Users/g.kandaurov/projects/deep_python_autumn_2024/lesson-03/Untitled.ipynb',\n",
       " '_i': 'globs[\"@@ dwjd === !!\"] = \"invalid name\"',\n",
       " '_ii': '\"qwerty\" in globals()',\n",
       " '_iii': 'qwerty',\n",
       " '_i1': 'globals()',\n",
       " '_1': {...},\n",
       " '_i2': 'locals()',\n",
       " '_2': {...},\n",
       " '_i3': 'globals() is locals()',\n",
       " '_3': True,\n",
       " '_i4': 'qwerty',\n",
       " '_i5': 'globs = globals()\\nglobs[\"qwerty\"] = \"ranrdon\"',\n",
       " 'globs': {...},\n",
       " 'qwerty': 'ranrdon',\n",
       " '_i6': 'qwerty',\n",
       " '_6': 'ranrdon',\n",
       " '_i7': '\"qwerty\" in globals()',\n",
       " '_7': True,\n",
       " '_i8': 'globs[\"@@ dwjd === !!\"] = \"invalid name\"',\n",
       " '@@ dwjd === !!': 'invalid name',\n",
       " '_i9': 'globals()'}"
      ]
     },
     "execution_count": 9,
     "metadata": {},
     "output_type": "execute_result"
    }
   ],
   "source": [
    "globals()"
   ]
  },
  {
   "cell_type": "code",
   "execution_count": 10,
   "id": "69ff8331-a787-4b85-832f-5ef23fdd220f",
   "metadata": {},
   "outputs": [
    {
     "ename": "SyntaxError",
     "evalue": "invalid syntax (3371042917.py, line 1)",
     "output_type": "error",
     "traceback": [
      "\u001b[0;36m  Cell \u001b[0;32mIn[10], line 1\u001b[0;36m\u001b[0m\n\u001b[0;31m    @@ dwjd === get_ipython().getoutput('!')\u001b[0m\n\u001b[0m     ^\u001b[0m\n\u001b[0;31mSyntaxError\u001b[0m\u001b[0;31m:\u001b[0m invalid syntax\n"
     ]
    }
   ],
   "source": [
    "@@ dwjd === !!"
   ]
  },
  {
   "cell_type": "code",
   "execution_count": null,
   "id": "937dcee2-9cd0-4669-ba7d-82e006f70177",
   "metadata": {},
   "outputs": [],
   "source": []
  },
  {
   "cell_type": "code",
   "execution_count": 11,
   "id": "2efa2034-6b39-44c5-8f31-08344b51d2a7",
   "metadata": {},
   "outputs": [
    {
     "name": "stdout",
     "output_type": "stream",
     "text": [
      "global counter=0\n"
     ]
    },
    {
     "ename": "UnboundLocalError",
     "evalue": "cannot access local variable 'counter' where it is not associated with a value",
     "output_type": "error",
     "traceback": [
      "\u001b[0;31m---------------------------------------------------------------------------\u001b[0m",
      "\u001b[0;31mUnboundLocalError\u001b[0m                         Traceback (most recent call last)",
      "Cell \u001b[0;32mIn[11], line 14\u001b[0m\n\u001b[1;32m      9\u001b[0m     \u001b[38;5;28;01mreturn\u001b[39;00m counter\n\u001b[1;32m     12\u001b[0m \u001b[38;5;28mprint\u001b[39m(\u001b[38;5;124mf\u001b[39m\u001b[38;5;124m\"\u001b[39m\u001b[38;5;124mglobal \u001b[39m\u001b[38;5;132;01m{\u001b[39;00mcounter\u001b[38;5;132;01m=}\u001b[39;00m\u001b[38;5;124m\"\u001b[39m)\n\u001b[0;32m---> 14\u001b[0m \u001b[43mcalc_data\u001b[49m\u001b[43m(\u001b[49m\u001b[43m)\u001b[49m\n\u001b[1;32m     15\u001b[0m calc_data()\n\u001b[1;32m     16\u001b[0m calc_data()\n",
      "Cell \u001b[0;32mIn[11], line 6\u001b[0m, in \u001b[0;36mcalc_data\u001b[0;34m()\u001b[0m\n\u001b[1;32m      4\u001b[0m \u001b[38;5;28;01mdef\u001b[39;00m \u001b[38;5;21mcalc_data\u001b[39m():\n\u001b[1;32m      5\u001b[0m     z \u001b[38;5;241m=\u001b[39m \u001b[38;5;241m123\u001b[39m\n\u001b[0;32m----> 6\u001b[0m     \u001b[38;5;28mprint\u001b[39m(\u001b[38;5;124mf\u001b[39m\u001b[38;5;124m\"\u001b[39m\u001b[38;5;124mcalc_data \u001b[39m\u001b[38;5;132;01m{\u001b[39;00m\u001b[43mcounter\u001b[49m\u001b[38;5;132;01m=}\u001b[39;00m\u001b[38;5;124m, \u001b[39m\u001b[38;5;132;01m{\u001b[39;00m\u001b[38;5;28mlocals\u001b[39m()\u001b[38;5;132;01m=}\u001b[39;00m\u001b[38;5;124m\"\u001b[39m)\n\u001b[1;32m      7\u001b[0m     counter \u001b[38;5;241m+\u001b[39m\u001b[38;5;241m=\u001b[39m \u001b[38;5;241m1\u001b[39m\n\u001b[1;32m      9\u001b[0m     \u001b[38;5;28;01mreturn\u001b[39;00m counter\n",
      "\u001b[0;31mUnboundLocalError\u001b[0m: cannot access local variable 'counter' where it is not associated with a value"
     ]
    }
   ],
   "source": [
    "counter = 0\n",
    "\n",
    "\n",
    "def calc_data():\n",
    "    z = 123\n",
    "    print(f\"calc_data {counter=}, {locals()=}\")\n",
    "    counter += 1\n",
    "\n",
    "    return counter\n",
    "\n",
    "\n",
    "print(f\"global {counter=}\")\n",
    "\n",
    "calc_data()\n",
    "calc_data()\n",
    "calc_data()\n",
    "\n",
    "print(f\"global {counter=}\")"
   ]
  },
  {
   "cell_type": "code",
   "execution_count": 12,
   "id": "bac57e37-eed9-49ec-b1d7-78261600a10a",
   "metadata": {},
   "outputs": [
    {
     "name": "stdout",
     "output_type": "stream",
     "text": [
      "global counter=0\n",
      "calc_data counter=0, locals()={'z': 123, 'counter': 0}\n",
      "calc_data counter=0, locals()={'z': 123, 'counter': 0}\n",
      "calc_data counter=0, locals()={'z': 123, 'counter': 0}\n",
      "global counter=0\n"
     ]
    }
   ],
   "source": [
    "counter = 0\n",
    "\n",
    "\n",
    "def calc_data():\n",
    "    z = 123\n",
    "    counter = 0\n",
    "    print(f\"calc_data {counter=}, {locals()=}\")\n",
    "    counter += 1\n",
    "\n",
    "    return counter\n",
    "\n",
    "\n",
    "print(f\"global {counter=}\")\n",
    "\n",
    "calc_data()\n",
    "calc_data()\n",
    "calc_data()\n",
    "\n",
    "print(f\"global {counter=}\")"
   ]
  },
  {
   "cell_type": "code",
   "execution_count": null,
   "id": "087a9719-ede6-4d10-8428-e2512a38f744",
   "metadata": {},
   "outputs": [],
   "source": []
  },
  {
   "cell_type": "code",
   "execution_count": 13,
   "id": "aba15604-6eee-46f1-bfa8-f11692259202",
   "metadata": {},
   "outputs": [
    {
     "name": "stdout",
     "output_type": "stream",
     "text": [
      "global counter=0\n",
      "calc_data counter=0, locals()={'z': 123}\n",
      "calc_data counter=1, locals()={'z': 123}\n",
      "calc_data counter=2, locals()={'z': 123}\n",
      "global counter=3\n"
     ]
    }
   ],
   "source": [
    "counter = 0\n",
    "\n",
    "\n",
    "def calc_data():\n",
    "    z = 123\n",
    "    global counter\n",
    "\n",
    "    print(f\"calc_data {counter=}, {locals()=}\")\n",
    "    counter += 1\n",
    "\n",
    "    return counter\n",
    "\n",
    "\n",
    "print(f\"global {counter=}\")\n",
    "\n",
    "calc_data()\n",
    "calc_data()\n",
    "calc_data()\n",
    "\n",
    "print(f\"global {counter=}\")"
   ]
  },
  {
   "cell_type": "code",
   "execution_count": 15,
   "id": "9feb759f-2c6d-4617-bd6c-efc38060f21a",
   "metadata": {},
   "outputs": [
    {
     "name": "stdout",
     "output_type": "stream",
     "text": [
      "global items=[1, 2, 3]\n",
      "update_list items=[1, 2, 3], locals()={'n': 10}\n",
      "update_list items=[1, 2, 3, 10], locals()={'n': 20}\n",
      "update_list items=[1, 2, 3, 10, 20], locals()={'n': 30}\n",
      "global items=[1, 2, 3, 10, 20, 30]\n"
     ]
    }
   ],
   "source": [
    "items = [1, 2, 3]\n",
    "\n",
    "\n",
    "def update_list(n):\n",
    "    print(f\"update_list {items=}, {locals()=}\")\n",
    "    items.append(n)\n",
    "\n",
    "    return items\n",
    "\n",
    "\n",
    "print(f\"global {items=}\")\n",
    "\n",
    "update_list(10)\n",
    "update_list(20)\n",
    "update_list(30)\n",
    "\n",
    "print(f\"global {items=}\")"
   ]
  },
  {
   "cell_type": "code",
   "execution_count": 19,
   "id": "91c3d0ab-6c8c-4394-8ec7-55233744346e",
   "metadata": {},
   "outputs": [
    {
     "name": "stdout",
     "output_type": "stream",
     "text": [
      "global items=[1, 2, 3]\n",
      "update_list items=[10], locals()={'n': 10}\n",
      "update_list items=[10], locals()={'n': 20}\n",
      "update_list items=[10], locals()={'n': 30}\n",
      "global items=[10, 30]\n"
     ]
    }
   ],
   "source": [
    "items = [1, 2, 3]\n",
    "\n",
    "\n",
    "def update_list(n):\n",
    "    global items\n",
    "\n",
    "    items = [10]\n",
    "    print(f\"update_list {items=}, {locals()=}\")\n",
    "    items.append(n)\n",
    "\n",
    "    return items\n",
    "\n",
    "\n",
    "print(f\"global {items=}\")\n",
    "\n",
    "update_list(10)\n",
    "update_list(20)\n",
    "update_list(30)\n",
    "\n",
    "print(f\"global {items=}\")"
   ]
  },
  {
   "cell_type": "code",
   "execution_count": null,
   "id": "fa91cce6-9788-4a8c-9054-27ba5a8f6302",
   "metadata": {},
   "outputs": [],
   "source": []
  },
  {
   "cell_type": "code",
   "execution_count": null,
   "id": "92c24899-6bdb-4591-9931-263d26df7bc3",
   "metadata": {},
   "outputs": [],
   "source": []
  },
  {
   "cell_type": "code",
   "execution_count": null,
   "id": "b620da5d-b777-470e-9c8f-a435432deab8",
   "metadata": {},
   "outputs": [],
   "source": []
  },
  {
   "cell_type": "code",
   "execution_count": null,
   "id": "5fb946c8-614e-426f-819b-ec03d1fee0af",
   "metadata": {},
   "outputs": [],
   "source": []
  },
  {
   "cell_type": "code",
   "execution_count": 20,
   "id": "871f6cd5-a6e8-4295-a374-87927c4035b0",
   "metadata": {},
   "outputs": [
    {
     "name": "stdout",
     "output_type": "stream",
     "text": [
      "outer_function elements=[], locals()={'inner_function': <function outer_function.<locals>.inner_function at 0x10ae47e20>, 'elements': []}\n",
      "inner_function elements=[99], locals()={'n': 99, 'elements': [99]}\n",
      "outer_function elements=[99], locals()={'inner_function': <function outer_function.<locals>.inner_function at 0x10ae47e20>, 'elements': [99]}\n"
     ]
    }
   ],
   "source": [
    "def outer_function():\n",
    "    elements = []\n",
    "\n",
    "    def inner_function(n):\n",
    "        elements.append(n)\n",
    "        print(f\"inner_function {elements=}, {locals()=}\")\n",
    "\n",
    "    print(f\"outer_function {elements=}, {locals()=}\")\n",
    "    inner_function(99)\n",
    "\n",
    "    print(f\"outer_function {elements=}, {locals()=}\")\n",
    "\n",
    "    return inner_function\n",
    "\n",
    "\n",
    "fn = outer_function()"
   ]
  },
  {
   "cell_type": "code",
   "execution_count": 21,
   "id": "9005a9a5-7906-4d6e-8351-218b41afb4f4",
   "metadata": {},
   "outputs": [
    {
     "name": "stdout",
     "output_type": "stream",
     "text": [
      "inner_function elements=[99, 42], locals()={'n': 42, 'elements': [99, 42]}\n"
     ]
    }
   ],
   "source": [
    "fn(42)"
   ]
  },
  {
   "cell_type": "code",
   "execution_count": 22,
   "id": "1bcac33d-5d32-414c-b22c-73f6982a7e0c",
   "metadata": {},
   "outputs": [
    {
     "name": "stdout",
     "output_type": "stream",
     "text": [
      "inner_function elements=[99, 42, 33], locals()={'n': 33, 'elements': [99, 42, 33]}\n"
     ]
    }
   ],
   "source": [
    "fn(33)"
   ]
  },
  {
   "cell_type": "code",
   "execution_count": null,
   "id": "342f7e4e-83db-4ca0-a692-41204336e2b5",
   "metadata": {},
   "outputs": [],
   "source": []
  },
  {
   "cell_type": "code",
   "execution_count": null,
   "id": "9ac86d48-7add-4454-b881-41148d6add39",
   "metadata": {},
   "outputs": [],
   "source": []
  },
  {
   "cell_type": "code",
   "execution_count": 24,
   "id": "bb68eb34-6fae-4693-a1d5-4659d861bd1e",
   "metadata": {},
   "outputs": [
    {
     "name": "stdout",
     "output_type": "stream",
     "text": [
      "outer_function counter=0, locals()={'inner_function': <function outer_function.<locals>.inner_function at 0x10b4b5580>, 'counter': 0}\n",
      "inner_function counter=1, locals()={'n': 99, 'counter': 1}\n",
      "inner_function counter=2, locals()={'n': 104, 'counter': 2}\n",
      "inner_function counter=3, locals()={'n': 205, 'counter': 3}\n",
      "outer_function counter=3, locals()={'inner_function': <function outer_function.<locals>.inner_function at 0x10b4b5580>, 'counter': 3}\n"
     ]
    }
   ],
   "source": [
    "def outer_function():\n",
    "    counter = 0\n",
    "\n",
    "    def inner_function(n):\n",
    "        nonlocal counter\n",
    "        counter += 1\n",
    "        print(f\"inner_function {counter=}, {locals()=}\")\n",
    "\n",
    "    print(f\"outer_function {counter=}, {locals()=}\")\n",
    "    inner_function(99)\n",
    "    inner_function(104)\n",
    "    inner_function(205)\n",
    "\n",
    "    print(f\"outer_function {counter=}, {locals()=}\")\n",
    "\n",
    "    return inner_function\n",
    "\n",
    "\n",
    "fn = outer_function()"
   ]
  },
  {
   "cell_type": "code",
   "execution_count": 28,
   "id": "9f5a57e0-33f8-4ce1-adcc-92c1e4242155",
   "metadata": {},
   "outputs": [
    {
     "name": "stdout",
     "output_type": "stream",
     "text": [
      "outer_function counter=0, locals()={'counter': 0, 'inner_function': <function outer_function.<locals>.inner_function at 0x10b4b5260>}\n",
      "inner_function counter=501, locals()={'n': 99}\n",
      "inner_function counter=502, locals()={'n': 104}\n",
      "inner_function counter=503, locals()={'n': 205}\n",
      "outer_function counter=0, locals()={'counter': 0, 'inner_function': <function outer_function.<locals>.inner_function at 0x10b4b5260>}\n",
      "503\n"
     ]
    }
   ],
   "source": [
    "counter = 500\n",
    "\n",
    "\n",
    "def outer_function():\n",
    "    counter = 0\n",
    "\n",
    "    def inner_function(n):\n",
    "        # nonlocal counter\n",
    "        global counter\n",
    "        counter += 1\n",
    "        print(f\"inner_function {counter=}, {locals()=}\")\n",
    "\n",
    "    print(f\"outer_function {counter=}, {locals()=}\")\n",
    "    inner_function(99)\n",
    "    inner_function(104)\n",
    "    inner_function(205)\n",
    "\n",
    "    print(f\"outer_function {counter=}, {locals()=}\")\n",
    "\n",
    "    return inner_function\n",
    "\n",
    "\n",
    "fn = outer_function()\n",
    "\n",
    "print(counter)"
   ]
  },
  {
   "cell_type": "code",
   "execution_count": null,
   "id": "e26655ff-e614-40fe-a427-c71f1cda97f3",
   "metadata": {},
   "outputs": [],
   "source": []
  },
  {
   "cell_type": "code",
   "execution_count": null,
   "id": "ea6b8a5e-baf1-4b17-98db-692b0b44c3a6",
   "metadata": {},
   "outputs": [],
   "source": []
  },
  {
   "cell_type": "code",
   "execution_count": 33,
   "id": "86f5c9fa-3267-4e6f-a84f-4b7ac6e5f4f7",
   "metadata": {},
   "outputs": [
    {
     "name": "stdout",
     "output_type": "stream",
     "text": [
      "outer_function counter=0, locals()={'inner_function': <function outer_function.<locals>.inner_function at 0x10b4b5d00>, 'counter': 0}\n",
      "0 10\n",
      "0 10\n",
      "0 10\n",
      "outer_function counter=0, locals()={'inner_function': <function outer_function.<locals>.inner_function at 0x10b4b5d00>, 'counter': 0}\n",
      "500\n"
     ]
    }
   ],
   "source": [
    "counter = 500\n",
    "\n",
    "\n",
    "def outer_function():\n",
    "    counter = 0\n",
    "\n",
    "    def inner_function(n):\n",
    "        len = 10\n",
    "        print(counter, len)\n",
    "\n",
    "    print(f\"outer_function {counter=}, {locals()=}\")\n",
    "    inner_function(99)\n",
    "    inner_function(104)\n",
    "    inner_function(205)\n",
    "\n",
    "    print(f\"outer_function {counter=}, {locals()=}\")\n",
    "\n",
    "    return inner_function\n",
    "\n",
    "\n",
    "fn = outer_function()\n",
    "\n",
    "print(counter)"
   ]
  },
  {
   "cell_type": "code",
   "execution_count": null,
   "id": "8d5cc115-561d-4806-9c75-f19590499d13",
   "metadata": {},
   "outputs": [],
   "source": []
  },
  {
   "cell_type": "code",
   "execution_count": null,
   "id": "b32f19a7-c380-4524-bf70-c7c1660400c6",
   "metadata": {},
   "outputs": [],
   "source": []
  },
  {
   "cell_type": "code",
   "execution_count": null,
   "id": "cbef4470-ebd1-4064-b7e1-67092d91a922",
   "metadata": {},
   "outputs": [],
   "source": []
  },
  {
   "cell_type": "code",
   "execution_count": null,
   "id": "86f48741-5091-46bf-9399-a47d8612c339",
   "metadata": {},
   "outputs": [],
   "source": []
  },
  {
   "cell_type": "code",
   "execution_count": 34,
   "id": "ee0628af-d294-490c-a315-1d133590e9cf",
   "metadata": {},
   "outputs": [],
   "source": [
    "class ClassAttr:\n",
    "    name = \"cls_name\"\n",
    "    __cls_private = \"cls_private\"\n",
    "\n",
    "    def __init__(self, val):\n",
    "        self.val = val\n",
    "        self._protected = \"protected\"\n",
    "        self.__private = \"private\"\n",
    "\n",
    "    def print(self):\n",
    "        print(\n",
    "            f\"{self.val=}, {self._protected=}, {self.__private=}, \"\n",
    "            f\"{self.name=}, {self.__cls_private=}\"\n",
    "        )\n",
    "    \n",
    "    def print_new(self):\n",
    "        print(f\"{self.__private_3=}\")\n",
    "        \n",
    "    def update(self):\n",
    "        print(f\"{self.val=}\")"
   ]
  },
  {
   "cell_type": "code",
   "execution_count": 35,
   "id": "b663e964-d61c-4e30-be02-5474c8b3944c",
   "metadata": {},
   "outputs": [],
   "source": [
    "item = ClassAttr(10)"
   ]
  },
  {
   "cell_type": "code",
   "execution_count": 36,
   "id": "6fdf9df6-ec26-42e6-acce-4a80723eb660",
   "metadata": {},
   "outputs": [
    {
     "data": {
      "text/plain": [
       "{'val': 10, '_protected': 'protected', '_ClassAttr__private': 'private'}"
      ]
     },
     "execution_count": 36,
     "metadata": {},
     "output_type": "execute_result"
    }
   ],
   "source": [
    "item.__dict__"
   ]
  },
  {
   "cell_type": "code",
   "execution_count": 37,
   "id": "ebc1b415-7bc3-4243-ab8c-9b889cbe6992",
   "metadata": {},
   "outputs": [
    {
     "data": {
      "text/plain": [
       "mappingproxy({'__module__': '__main__',\n",
       "              'name': 'cls_name',\n",
       "              '_ClassAttr__cls_private': 'cls_private',\n",
       "              '__init__': <function __main__.ClassAttr.__init__(self, val)>,\n",
       "              'print': <function __main__.ClassAttr.print(self)>,\n",
       "              'print_new': <function __main__.ClassAttr.print_new(self)>,\n",
       "              'update': <function __main__.ClassAttr.update(self)>,\n",
       "              '__dict__': <attribute '__dict__' of 'ClassAttr' objects>,\n",
       "              '__weakref__': <attribute '__weakref__' of 'ClassAttr' objects>,\n",
       "              '__doc__': None})"
      ]
     },
     "execution_count": 37,
     "metadata": {},
     "output_type": "execute_result"
    }
   ],
   "source": [
    "ClassAttr.__dict__"
   ]
  },
  {
   "cell_type": "code",
   "execution_count": 38,
   "id": "a68eb394-8652-4055-b35a-289e43b99302",
   "metadata": {},
   "outputs": [],
   "source": [
    "ClassAttr.address = \"Moscow\""
   ]
  },
  {
   "cell_type": "code",
   "execution_count": 39,
   "id": "23d3d8e1-12a0-4bab-be4b-d4f779ecc7c8",
   "metadata": {},
   "outputs": [
    {
     "data": {
      "text/plain": [
       "mappingproxy({'__module__': '__main__',\n",
       "              'name': 'cls_name',\n",
       "              '_ClassAttr__cls_private': 'cls_private',\n",
       "              '__init__': <function __main__.ClassAttr.__init__(self, val)>,\n",
       "              'print': <function __main__.ClassAttr.print(self)>,\n",
       "              'print_new': <function __main__.ClassAttr.print_new(self)>,\n",
       "              'update': <function __main__.ClassAttr.update(self)>,\n",
       "              '__dict__': <attribute '__dict__' of 'ClassAttr' objects>,\n",
       "              '__weakref__': <attribute '__weakref__' of 'ClassAttr' objects>,\n",
       "              '__doc__': None,\n",
       "              'address': 'Moscow'})"
      ]
     },
     "execution_count": 39,
     "metadata": {},
     "output_type": "execute_result"
    }
   ],
   "source": [
    "ClassAttr.__dict__"
   ]
  },
  {
   "cell_type": "code",
   "execution_count": 40,
   "id": "2ff7fa3b-b035-47b3-ae44-c1f109612393",
   "metadata": {},
   "outputs": [
    {
     "ename": "TypeError",
     "evalue": "'mappingproxy' object does not support item assignment",
     "output_type": "error",
     "traceback": [
      "\u001b[0;31m---------------------------------------------------------------------------\u001b[0m",
      "\u001b[0;31mTypeError\u001b[0m                                 Traceback (most recent call last)",
      "Cell \u001b[0;32mIn[40], line 1\u001b[0m\n\u001b[0;32m----> 1\u001b[0m \u001b[43mClassAttr\u001b[49m\u001b[38;5;241;43m.\u001b[39;49m\u001b[38;5;18;43m__dict__\u001b[39;49m\u001b[43m[\u001b[49m\u001b[38;5;124;43m\"\u001b[39;49m\u001b[38;5;124;43mzip_code\u001b[39;49m\u001b[38;5;124;43m\"\u001b[39;49m\u001b[43m]\u001b[49m \u001b[38;5;241m=\u001b[39m \u001b[38;5;124m\"\u001b[39m\u001b[38;5;124m095375\u001b[39m\u001b[38;5;124m\"\u001b[39m\n",
      "\u001b[0;31mTypeError\u001b[0m: 'mappingproxy' object does not support item assignment"
     ]
    }
   ],
   "source": [
    "ClassAttr.__dict__[\"zip_code\"] = \"095375\""
   ]
  },
  {
   "cell_type": "code",
   "execution_count": 41,
   "id": "dfd39e8f-d746-4e06-b706-6affd313145e",
   "metadata": {},
   "outputs": [
    {
     "data": {
      "text/plain": [
       "{'val': 10, '_protected': 'protected', '_ClassAttr__private': 'private'}"
      ]
     },
     "execution_count": 41,
     "metadata": {},
     "output_type": "execute_result"
    }
   ],
   "source": [
    "item.__dict__"
   ]
  },
  {
   "cell_type": "code",
   "execution_count": 42,
   "id": "a3392c86-05ea-414d-b6a1-5f38959a34c1",
   "metadata": {},
   "outputs": [],
   "source": [
    "item.phone = \"+7...\""
   ]
  },
  {
   "cell_type": "code",
   "execution_count": 43,
   "id": "81885ae0-5688-4097-9a53-eb7005fc5a6c",
   "metadata": {},
   "outputs": [
    {
     "data": {
      "text/plain": [
       "{'val': 10,\n",
       " '_protected': 'protected',\n",
       " '_ClassAttr__private': 'private',\n",
       " 'phone': '+7...'}"
      ]
     },
     "execution_count": 43,
     "metadata": {},
     "output_type": "execute_result"
    }
   ],
   "source": [
    "item.__dict__"
   ]
  },
  {
   "cell_type": "code",
   "execution_count": 44,
   "id": "3611f272-8f34-4716-893f-291c83f057b3",
   "metadata": {},
   "outputs": [],
   "source": [
    "item.__dict__[\"mobile\"] = \"+7314...\""
   ]
  },
  {
   "cell_type": "code",
   "execution_count": 45,
   "id": "8bcf9cc0-fa35-42e2-99ab-ebc4c1f8f226",
   "metadata": {},
   "outputs": [
    {
     "data": {
      "text/plain": [
       "{'val': 10,\n",
       " '_protected': 'protected',\n",
       " '_ClassAttr__private': 'private',\n",
       " 'phone': '+7...',\n",
       " 'mobile': '+7314...'}"
      ]
     },
     "execution_count": 45,
     "metadata": {},
     "output_type": "execute_result"
    }
   ],
   "source": [
    "item.__dict__"
   ]
  },
  {
   "cell_type": "code",
   "execution_count": 46,
   "id": "72afe826-e1f5-4883-929e-37b204abfb1e",
   "metadata": {},
   "outputs": [
    {
     "data": {
      "text/plain": [
       "{'val': 10,\n",
       " '_protected': 'protected',\n",
       " '_ClassAttr__private': 'private',\n",
       " 'phone': '+7...',\n",
       " 'mobile': '+7314...'}"
      ]
     },
     "execution_count": 46,
     "metadata": {},
     "output_type": "execute_result"
    }
   ],
   "source": [
    "item.__dict__"
   ]
  },
  {
   "cell_type": "code",
   "execution_count": 47,
   "id": "6ed837ea-0e22-4a1a-be58-12b96d978634",
   "metadata": {},
   "outputs": [
    {
     "name": "stdout",
     "output_type": "stream",
     "text": [
      "self.val=10, self._protected='protected', self.__private='private', self.name='cls_name', self.__cls_private='cls_private'\n"
     ]
    }
   ],
   "source": [
    "item.print()"
   ]
  },
  {
   "cell_type": "code",
   "execution_count": 48,
   "id": "a3adff58-e5ce-44b0-a58a-16c938ab090d",
   "metadata": {},
   "outputs": [
    {
     "ename": "AttributeError",
     "evalue": "type object 'ClassAttr' has no attribute '__cls_private'",
     "output_type": "error",
     "traceback": [
      "\u001b[0;31m---------------------------------------------------------------------------\u001b[0m",
      "\u001b[0;31mAttributeError\u001b[0m                            Traceback (most recent call last)",
      "Cell \u001b[0;32mIn[48], line 1\u001b[0m\n\u001b[0;32m----> 1\u001b[0m \u001b[43mClassAttr\u001b[49m\u001b[38;5;241;43m.\u001b[39;49m\u001b[43m__cls_private\u001b[49m\n",
      "\u001b[0;31mAttributeError\u001b[0m: type object 'ClassAttr' has no attribute '__cls_private'"
     ]
    }
   ],
   "source": [
    "ClassAttr.__cls_private"
   ]
  },
  {
   "cell_type": "code",
   "execution_count": 51,
   "id": "2775e6e4-3f81-4b0a-8da4-f75e656662c7",
   "metadata": {},
   "outputs": [
    {
     "data": {
      "text/plain": [
       "'cls_private'"
      ]
     },
     "execution_count": 51,
     "metadata": {},
     "output_type": "execute_result"
    }
   ],
   "source": [
    "ClassAttr._ClassAttr__cls_private"
   ]
  },
  {
   "cell_type": "code",
   "execution_count": 49,
   "id": "3f3f4864-2d54-498f-96d6-1bd3f4b9f5e6",
   "metadata": {},
   "outputs": [
    {
     "ename": "AttributeError",
     "evalue": "'ClassAttr' object has no attribute '__private'",
     "output_type": "error",
     "traceback": [
      "\u001b[0;31m---------------------------------------------------------------------------\u001b[0m",
      "\u001b[0;31mAttributeError\u001b[0m                            Traceback (most recent call last)",
      "Cell \u001b[0;32mIn[49], line 1\u001b[0m\n\u001b[0;32m----> 1\u001b[0m \u001b[43mitem\u001b[49m\u001b[38;5;241;43m.\u001b[39;49m\u001b[43m__private\u001b[49m\n",
      "\u001b[0;31mAttributeError\u001b[0m: 'ClassAttr' object has no attribute '__private'"
     ]
    }
   ],
   "source": [
    "item.__private"
   ]
  },
  {
   "cell_type": "code",
   "execution_count": 50,
   "id": "78e9e1ae-0430-4a0f-8945-31a2bb074c4e",
   "metadata": {},
   "outputs": [
    {
     "data": {
      "text/plain": [
       "'private'"
      ]
     },
     "execution_count": 50,
     "metadata": {},
     "output_type": "execute_result"
    }
   ],
   "source": [
    "item._ClassAttr__private"
   ]
  },
  {
   "cell_type": "code",
   "execution_count": 52,
   "id": "b3a92af9-ccd9-4f28-b6ed-542668f5504e",
   "metadata": {},
   "outputs": [],
   "source": [
    "item._ClassAttr__private = \"private_updated\""
   ]
  },
  {
   "cell_type": "code",
   "execution_count": 53,
   "id": "e8a2c67c-eb18-404e-814f-266e4c02d334",
   "metadata": {},
   "outputs": [
    {
     "data": {
      "text/plain": [
       "{'val': 10,\n",
       " '_protected': 'protected',\n",
       " '_ClassAttr__private': 'private_updated',\n",
       " 'phone': '+7...',\n",
       " 'mobile': '+7314...'}"
      ]
     },
     "execution_count": 53,
     "metadata": {},
     "output_type": "execute_result"
    }
   ],
   "source": [
    "item.__dict__"
   ]
  },
  {
   "cell_type": "code",
   "execution_count": 54,
   "id": "d79f7a19-f973-4df1-80aa-c10a21397f8c",
   "metadata": {},
   "outputs": [],
   "source": [
    "item.__new_private = \"new_priv\""
   ]
  },
  {
   "cell_type": "code",
   "execution_count": 55,
   "id": "08793b26-b937-4b91-85e2-46f0f5df2d1a",
   "metadata": {},
   "outputs": [
    {
     "data": {
      "text/plain": [
       "'new_priv'"
      ]
     },
     "execution_count": 55,
     "metadata": {},
     "output_type": "execute_result"
    }
   ],
   "source": [
    "item.__new_private"
   ]
  },
  {
   "cell_type": "code",
   "execution_count": 56,
   "id": "36e913ea-0364-4275-82ca-91c3d7b6f68e",
   "metadata": {},
   "outputs": [
    {
     "data": {
      "text/plain": [
       "{'val': 10,\n",
       " '_protected': 'protected',\n",
       " '_ClassAttr__private': 'private_updated',\n",
       " 'phone': '+7...',\n",
       " 'mobile': '+7314...',\n",
       " '__new_private': 'new_priv'}"
      ]
     },
     "execution_count": 56,
     "metadata": {},
     "output_type": "execute_result"
    }
   ],
   "source": [
    "item.__dict__"
   ]
  },
  {
   "cell_type": "code",
   "execution_count": 57,
   "id": "99715fb1-77d0-4023-930c-22e0c6869f23",
   "metadata": {},
   "outputs": [
    {
     "ename": "AttributeError",
     "evalue": "'ClassAttr' object has no attribute '_ClassAttr__private_3'",
     "output_type": "error",
     "traceback": [
      "\u001b[0;31m---------------------------------------------------------------------------\u001b[0m",
      "\u001b[0;31mAttributeError\u001b[0m                            Traceback (most recent call last)",
      "Cell \u001b[0;32mIn[57], line 1\u001b[0m\n\u001b[0;32m----> 1\u001b[0m \u001b[43mitem\u001b[49m\u001b[38;5;241;43m.\u001b[39;49m\u001b[43mprint_new\u001b[49m\u001b[43m(\u001b[49m\u001b[43m)\u001b[49m\n",
      "Cell \u001b[0;32mIn[34], line 17\u001b[0m, in \u001b[0;36mClassAttr.print_new\u001b[0;34m(self)\u001b[0m\n\u001b[1;32m     16\u001b[0m \u001b[38;5;28;01mdef\u001b[39;00m \u001b[38;5;21mprint_new\u001b[39m(\u001b[38;5;28mself\u001b[39m):\n\u001b[0;32m---> 17\u001b[0m     \u001b[38;5;28mprint\u001b[39m(\u001b[38;5;124mf\u001b[39m\u001b[38;5;124m\"\u001b[39m\u001b[38;5;132;01m{\u001b[39;00m\u001b[38;5;28;43mself\u001b[39;49m\u001b[38;5;241;43m.\u001b[39;49m\u001b[43m__private_3\u001b[49m\u001b[38;5;132;01m=}\u001b[39;00m\u001b[38;5;124m\"\u001b[39m)\n",
      "\u001b[0;31mAttributeError\u001b[0m: 'ClassAttr' object has no attribute '_ClassAttr__private_3'"
     ]
    }
   ],
   "source": [
    "item.print_new()"
   ]
  },
  {
   "cell_type": "code",
   "execution_count": 58,
   "id": "76033991-3ef0-4041-b313-d1d3f01d995e",
   "metadata": {},
   "outputs": [],
   "source": [
    "item._ClassAttr__private_3 = \"new priv attr\""
   ]
  },
  {
   "cell_type": "code",
   "execution_count": 59,
   "id": "ad615a63-4a1e-478f-899d-9541f9d82530",
   "metadata": {},
   "outputs": [
    {
     "name": "stdout",
     "output_type": "stream",
     "text": [
      "self.__private_3='new priv attr'\n"
     ]
    }
   ],
   "source": [
    "item.print_new()"
   ]
  },
  {
   "cell_type": "code",
   "execution_count": 60,
   "id": "1ccc5cd2-695b-4311-b132-4622441fc856",
   "metadata": {},
   "outputs": [
    {
     "name": "stdout",
     "output_type": "stream",
     "text": [
      "self.val=10, self._protected='protected', self.__private='private_updated', self.name='cls_name', self.__cls_private='cls_private'\n"
     ]
    }
   ],
   "source": [
    "item.print()"
   ]
  },
  {
   "cell_type": "code",
   "execution_count": 61,
   "id": "034d73d1-4832-4699-a9a6-99f69e9e027f",
   "metadata": {},
   "outputs": [
    {
     "data": {
      "text/plain": [
       "<bound method ClassAttr.print of <__main__.ClassAttr object at 0x10b16c0e0>>"
      ]
     },
     "execution_count": 61,
     "metadata": {},
     "output_type": "execute_result"
    }
   ],
   "source": [
    "item.print"
   ]
  },
  {
   "cell_type": "code",
   "execution_count": 62,
   "id": "78ef60c4-0c02-43da-9a04-9c7e807b5be0",
   "metadata": {},
   "outputs": [
    {
     "data": {
      "text/plain": [
       "<__main__.ClassAttr at 0x10b16c0e0>"
      ]
     },
     "execution_count": 62,
     "metadata": {},
     "output_type": "execute_result"
    }
   ],
   "source": [
    "item"
   ]
  },
  {
   "cell_type": "code",
   "execution_count": null,
   "id": "8ccc05d3-d1e5-4ccb-8b07-56922fe25207",
   "metadata": {},
   "outputs": [],
   "source": []
  },
  {
   "cell_type": "code",
   "execution_count": null,
   "id": "e3ba7752-f6c9-4c61-8daa-e958cc96c23a",
   "metadata": {},
   "outputs": [],
   "source": []
  },
  {
   "cell_type": "code",
   "execution_count": null,
   "id": "d6909286-0603-4bdd-b518-6eea1b11a1a4",
   "metadata": {},
   "outputs": [],
   "source": []
  },
  {
   "cell_type": "code",
   "execution_count": 64,
   "id": "52326c04-6623-4bb7-bcaf-eb333bd9f64d",
   "metadata": {},
   "outputs": [
    {
     "data": {
      "text/plain": [
       "<function __main__.ClassAttr.print(self)>"
      ]
     },
     "execution_count": 64,
     "metadata": {},
     "output_type": "execute_result"
    }
   ],
   "source": [
    "ClassAttr.print"
   ]
  },
  {
   "cell_type": "code",
   "execution_count": null,
   "id": "421a5e7e-f47d-47bb-945d-0d658382bbf4",
   "metadata": {},
   "outputs": [],
   "source": []
  },
  {
   "cell_type": "code",
   "execution_count": 63,
   "id": "19c5ac9f-0d9e-446b-9631-e4fb37c7d416",
   "metadata": {},
   "outputs": [],
   "source": [
    "item2 = ClassAttr(20)"
   ]
  },
  {
   "cell_type": "code",
   "execution_count": 65,
   "id": "f50e4a2a-c948-4d73-9d35-6c815c71db9b",
   "metadata": {},
   "outputs": [
    {
     "name": "stdout",
     "output_type": "stream",
     "text": [
      "self.val=20, self._protected='protected', self.__private='private', self.name='cls_name', self.__cls_private='cls_private'\n"
     ]
    }
   ],
   "source": [
    "ClassAttr.print(item2)"
   ]
  },
  {
   "cell_type": "code",
   "execution_count": 66,
   "id": "77456ddb-fccd-41e3-84bd-08bbbd98dab9",
   "metadata": {},
   "outputs": [
    {
     "name": "stdout",
     "output_type": "stream",
     "text": [
      "self.val=10, self._protected='protected', self.__private='private_updated', self.name='cls_name', self.__cls_private='cls_private'\n"
     ]
    }
   ],
   "source": [
    "ClassAttr.print(item)"
   ]
  },
  {
   "cell_type": "code",
   "execution_count": 67,
   "id": "020e51f2-c039-4dec-b42c-2d183e1a2361",
   "metadata": {},
   "outputs": [
    {
     "name": "stdout",
     "output_type": "stream",
     "text": [
      "self.val=<Mock name='mock.val' id='4481053856'>, self._protected=<Mock name='mock._protected' id='4481007792'>, self.__private=<Mock name='mock._ClassAttr__private' id='4480808144'>, self.name=<Mock name='mock.name' id='4480424544'>, self.__cls_private=<Mock name='mock._ClassAttr__cls_private' id='4480843312'>\n"
     ]
    }
   ],
   "source": [
    "from unittest import mock\n",
    "\n",
    "ClassAttr.print(mock.Mock())"
   ]
  },
  {
   "cell_type": "code",
   "execution_count": null,
   "id": "4500d2af-0687-4fbf-9e27-8e555447eee7",
   "metadata": {},
   "outputs": [],
   "source": []
  },
  {
   "cell_type": "code",
   "execution_count": 69,
   "id": "2d48a57e-0425-400b-9acf-2d105f0f6271",
   "metadata": {},
   "outputs": [
    {
     "data": {
      "text/plain": [
       "{'val': 10,\n",
       " '_protected': 'protected',\n",
       " '_ClassAttr__private': 'private_updated',\n",
       " 'phone': '+7...',\n",
       " 'mobile': '+7314...',\n",
       " '__new_private': 'new_priv',\n",
       " '_ClassAttr__private_3': 'new priv attr'}"
      ]
     },
     "execution_count": 69,
     "metadata": {},
     "output_type": "execute_result"
    }
   ],
   "source": [
    "item.__dict__"
   ]
  },
  {
   "cell_type": "code",
   "execution_count": 70,
   "id": "e29486a5-94e5-452e-8d56-eac54611f8e0",
   "metadata": {},
   "outputs": [
    {
     "data": {
      "text/plain": [
       "mappingproxy({'__module__': '__main__',\n",
       "              'name': 'cls_name',\n",
       "              '_ClassAttr__cls_private': 'cls_private',\n",
       "              '__init__': <function __main__.ClassAttr.__init__(self, val)>,\n",
       "              'print': <function __main__.ClassAttr.print(self)>,\n",
       "              'print_new': <function __main__.ClassAttr.print_new(self)>,\n",
       "              'update': <function __main__.ClassAttr.update(self)>,\n",
       "              '__dict__': <attribute '__dict__' of 'ClassAttr' objects>,\n",
       "              '__weakref__': <attribute '__weakref__' of 'ClassAttr' objects>,\n",
       "              '__doc__': None,\n",
       "              'address': 'Moscow'})"
      ]
     },
     "execution_count": 70,
     "metadata": {},
     "output_type": "execute_result"
    }
   ],
   "source": [
    "ClassAttr.__dict__"
   ]
  },
  {
   "cell_type": "code",
   "execution_count": 72,
   "id": "19c08d98-e330-4ff8-b3ad-89e98e19450c",
   "metadata": {},
   "outputs": [
    {
     "data": {
      "text/plain": [
       "('cls_name', 'cls_name')"
      ]
     },
     "execution_count": 72,
     "metadata": {},
     "output_type": "execute_result"
    }
   ],
   "source": [
    "item.name, item2.name"
   ]
  },
  {
   "cell_type": "code",
   "execution_count": 73,
   "id": "e6e509fc-4bb1-484b-9de0-f2cd715f1573",
   "metadata": {},
   "outputs": [],
   "source": [
    "item.name = \"name_updated\""
   ]
  },
  {
   "cell_type": "code",
   "execution_count": 74,
   "id": "53d66600-e3a2-4f1e-961b-1cc1f65231a0",
   "metadata": {},
   "outputs": [
    {
     "data": {
      "text/plain": [
       "('name_updated', 'cls_name')"
      ]
     },
     "execution_count": 74,
     "metadata": {},
     "output_type": "execute_result"
    }
   ],
   "source": [
    "item.name, item2.name"
   ]
  },
  {
   "cell_type": "code",
   "execution_count": 75,
   "id": "143647c9-bdd0-41ec-af4d-96a22e16c716",
   "metadata": {},
   "outputs": [
    {
     "data": {
      "text/plain": [
       "{'val': 10,\n",
       " '_protected': 'protected',\n",
       " '_ClassAttr__private': 'private_updated',\n",
       " 'phone': '+7...',\n",
       " 'mobile': '+7314...',\n",
       " '__new_private': 'new_priv',\n",
       " '_ClassAttr__private_3': 'new priv attr',\n",
       " 'name': 'name_updated'}"
      ]
     },
     "execution_count": 75,
     "metadata": {},
     "output_type": "execute_result"
    }
   ],
   "source": [
    "item.__dict__"
   ]
  },
  {
   "cell_type": "code",
   "execution_count": 76,
   "id": "800ec63a-84c6-40b0-b034-a5043922f5e0",
   "metadata": {},
   "outputs": [],
   "source": [
    "del item.name"
   ]
  },
  {
   "cell_type": "code",
   "execution_count": 77,
   "id": "7fe6807d-2cac-4347-8a4c-d062bde21376",
   "metadata": {},
   "outputs": [
    {
     "data": {
      "text/plain": [
       "('cls_name', 'cls_name')"
      ]
     },
     "execution_count": 77,
     "metadata": {},
     "output_type": "execute_result"
    }
   ],
   "source": [
    "item.name, item2.name"
   ]
  },
  {
   "cell_type": "code",
   "execution_count": 78,
   "id": "e528cc2a-306f-4cde-a7e5-83740cbda953",
   "metadata": {},
   "outputs": [
    {
     "ename": "AttributeError",
     "evalue": "'ClassAttr' object has no attribute 'name'",
     "output_type": "error",
     "traceback": [
      "\u001b[0;31m---------------------------------------------------------------------------\u001b[0m",
      "\u001b[0;31mAttributeError\u001b[0m                            Traceback (most recent call last)",
      "Cell \u001b[0;32mIn[78], line 1\u001b[0m\n\u001b[0;32m----> 1\u001b[0m \u001b[38;5;28;01mdel\u001b[39;00m \u001b[43mitem\u001b[49m\u001b[38;5;241;43m.\u001b[39;49m\u001b[43mname\u001b[49m\n",
      "\u001b[0;31mAttributeError\u001b[0m: 'ClassAttr' object has no attribute 'name'"
     ]
    }
   ],
   "source": [
    "del item.name"
   ]
  },
  {
   "cell_type": "code",
   "execution_count": 79,
   "id": "f774c86f-09e1-422b-9660-6967844ba089",
   "metadata": {},
   "outputs": [],
   "source": [
    "ClassAttr.name = \"cls_name_updated\""
   ]
  },
  {
   "cell_type": "code",
   "execution_count": 80,
   "id": "e040035c-2ae2-4593-95b7-09d43cc88614",
   "metadata": {},
   "outputs": [
    {
     "data": {
      "text/plain": [
       "('cls_name_updated', 'cls_name_updated')"
      ]
     },
     "execution_count": 80,
     "metadata": {},
     "output_type": "execute_result"
    }
   ],
   "source": [
    "item.name, item2.name"
   ]
  },
  {
   "cell_type": "code",
   "execution_count": 82,
   "id": "2c45614c-47a4-4d4e-990d-05a0220689b6",
   "metadata": {},
   "outputs": [
    {
     "data": {
      "text/plain": [
       "__main__.ClassAttr"
      ]
     },
     "execution_count": 82,
     "metadata": {},
     "output_type": "execute_result"
    }
   ],
   "source": [
    "item.__class__"
   ]
  },
  {
   "cell_type": "code",
   "execution_count": 84,
   "id": "d092aa56-004d-4926-adac-f0d7c631c6bf",
   "metadata": {},
   "outputs": [
    {
     "data": {
      "text/plain": [
       "True"
      ]
     },
     "execution_count": 84,
     "metadata": {},
     "output_type": "execute_result"
    }
   ],
   "source": [
    "ClassAttr is item.__class__"
   ]
  },
  {
   "cell_type": "code",
   "execution_count": 85,
   "id": "6635e684-1fed-4513-85da-d7ce978eb445",
   "metadata": {},
   "outputs": [],
   "source": [
    "item.__class__.name = \"cls_name_updated - 42\""
   ]
  },
  {
   "cell_type": "code",
   "execution_count": 86,
   "id": "099a9014-9edd-4e74-a62a-b9468d6f54f5",
   "metadata": {},
   "outputs": [
    {
     "data": {
      "text/plain": [
       "mappingproxy({'__module__': '__main__',\n",
       "              'name': 'cls_name_updated - 42',\n",
       "              '_ClassAttr__cls_private': 'cls_private',\n",
       "              '__init__': <function __main__.ClassAttr.__init__(self, val)>,\n",
       "              'print': <function __main__.ClassAttr.print(self)>,\n",
       "              'print_new': <function __main__.ClassAttr.print_new(self)>,\n",
       "              'update': <function __main__.ClassAttr.update(self)>,\n",
       "              '__dict__': <attribute '__dict__' of 'ClassAttr' objects>,\n",
       "              '__weakref__': <attribute '__weakref__' of 'ClassAttr' objects>,\n",
       "              '__doc__': None,\n",
       "              'address': 'Moscow'})"
      ]
     },
     "execution_count": 86,
     "metadata": {},
     "output_type": "execute_result"
    }
   ],
   "source": [
    "ClassAttr.__dict__"
   ]
  },
  {
   "cell_type": "code",
   "execution_count": 87,
   "id": "0f361f5b-8ef0-44ce-839d-92b20365cdbe",
   "metadata": {},
   "outputs": [
    {
     "data": {
      "text/plain": [
       "('cls_name_updated - 42', 'cls_name_updated - 42')"
      ]
     },
     "execution_count": 87,
     "metadata": {},
     "output_type": "execute_result"
    }
   ],
   "source": [
    "item.name, item2.name"
   ]
  },
  {
   "cell_type": "code",
   "execution_count": null,
   "id": "cb5dc072-b47f-4822-b11a-8f8da1f65829",
   "metadata": {},
   "outputs": [],
   "source": []
  },
  {
   "cell_type": "code",
   "execution_count": 90,
   "id": "6db9fafb-5797-4790-9056-d1fff2e4100b",
   "metadata": {},
   "outputs": [
    {
     "data": {
      "text/plain": [
       "False"
      ]
     },
     "execution_count": 90,
     "metadata": {},
     "output_type": "execute_result"
    }
   ],
   "source": [
    "# item.xxx\n",
    "\n",
    "\"xxx\" in item.__dict__\n",
    "\"xxx\" in item.__class__.__dict__\n",
    "\"xxx\" in item.__class__.__bases__"
   ]
  },
  {
   "cell_type": "code",
   "execution_count": null,
   "id": "999cdaea-9b72-411e-aca3-4a6d8eb01748",
   "metadata": {},
   "outputs": [],
   "source": []
  },
  {
   "cell_type": "code",
   "execution_count": 99,
   "id": "b0dd0d24-6014-42ce-848f-962f6198784f",
   "metadata": {},
   "outputs": [],
   "source": [
    "class ClassMeth:\n",
    "    name = \"cls_name\"\n",
    "    __cls_private = \"cls_private\"\n",
    "\n",
    "    def __init__(self, val):\n",
    "        self.val = val\n",
    "        self._protected = \"protected\"\n",
    "        self.__private = \"private\"\n",
    "\n",
    "    def print(self):\n",
    "        print(\n",
    "            f\"{self.val=}, {self._protected=}, {self.__private=}, \"\n",
    "            f\"{self.name=}, {self.__cls_private=}\"\n",
    "        )\n",
    "\n",
    "    @classmethod\n",
    "    def print_new(qwerty):\n",
    "        print(f\"{qwerty=}, {qwerty.name=}\")\n",
    "\n",
    "    @staticmethod\n",
    "    def calc(n):\n",
    "        return n + 20"
   ]
  },
  {
   "cell_type": "code",
   "execution_count": 93,
   "id": "c74169f7-348c-4143-8ee9-cb24b406e804",
   "metadata": {},
   "outputs": [],
   "source": [
    "elem = ClassMeth(10)"
   ]
  },
  {
   "cell_type": "code",
   "execution_count": 94,
   "id": "06920ddb-a41c-47fb-a92d-c21ecc3459ea",
   "metadata": {},
   "outputs": [
    {
     "name": "stdout",
     "output_type": "stream",
     "text": [
      "self.val=10, self._protected='protected', self.__private='private', self.name='cls_name', self.__cls_private='cls_private'\n"
     ]
    }
   ],
   "source": [
    "elem.print()"
   ]
  },
  {
   "cell_type": "code",
   "execution_count": 95,
   "id": "b0fe4962-f6ac-400c-a26c-a8a4b12d96c4",
   "metadata": {},
   "outputs": [
    {
     "ename": "TypeError",
     "evalue": "ClassMeth.print() missing 1 required positional argument: 'self'",
     "output_type": "error",
     "traceback": [
      "\u001b[0;31m---------------------------------------------------------------------------\u001b[0m",
      "\u001b[0;31mTypeError\u001b[0m                                 Traceback (most recent call last)",
      "Cell \u001b[0;32mIn[95], line 1\u001b[0m\n\u001b[0;32m----> 1\u001b[0m \u001b[43mClassMeth\u001b[49m\u001b[38;5;241;43m.\u001b[39;49m\u001b[43mprint\u001b[49m\u001b[43m(\u001b[49m\u001b[43m)\u001b[49m\n",
      "\u001b[0;31mTypeError\u001b[0m: ClassMeth.print() missing 1 required positional argument: 'self'"
     ]
    }
   ],
   "source": [
    "ClassMeth.print()"
   ]
  },
  {
   "cell_type": "code",
   "execution_count": 100,
   "id": "1c2d6aa1-9abe-4cd9-98f6-cc4e8e56a7e1",
   "metadata": {},
   "outputs": [
    {
     "name": "stdout",
     "output_type": "stream",
     "text": [
      "qwerty=<class '__main__.ClassMeth'>, qwerty.name='cls_name'\n"
     ]
    }
   ],
   "source": [
    "ClassMeth.print_new()"
   ]
  },
  {
   "cell_type": "code",
   "execution_count": 97,
   "id": "e7f705d6-199f-40a5-92bb-e5a46ea51686",
   "metadata": {},
   "outputs": [
    {
     "name": "stdout",
     "output_type": "stream",
     "text": [
      "cls=<class '__main__.ClassMeth'>, cls.name='cls_name'\n"
     ]
    }
   ],
   "source": [
    "elem.print_new()"
   ]
  },
  {
   "cell_type": "code",
   "execution_count": 98,
   "id": "91f4af14-3927-49f9-9ed6-7081e40dd3bc",
   "metadata": {},
   "outputs": [
    {
     "data": {
      "text/plain": [
       "(119, 22)"
      ]
     },
     "execution_count": 98,
     "metadata": {},
     "output_type": "execute_result"
    }
   ],
   "source": [
    "elem.calc(99), ClassMeth.calc(2)"
   ]
  },
  {
   "cell_type": "code",
   "execution_count": null,
   "id": "0df78f8b-b072-4308-a130-98dd70115472",
   "metadata": {},
   "outputs": [],
   "source": []
  },
  {
   "cell_type": "code",
   "execution_count": null,
   "id": "78b663cd-99ff-44dd-b36f-bbcb045fbb85",
   "metadata": {},
   "outputs": [],
   "source": []
  },
  {
   "cell_type": "code",
   "execution_count": null,
   "id": "4c5b1191-e664-4e73-a322-41b563a04358",
   "metadata": {},
   "outputs": [],
   "source": []
  },
  {
   "cell_type": "code",
   "execution_count": 106,
   "id": "6d870416-226a-4c33-8c1f-116e394bd23f",
   "metadata": {},
   "outputs": [],
   "source": [
    "class Num:\n",
    "    def __init__(self, n):\n",
    "        self.n = n\n",
    "\n",
    "    def __add__(self, other):\n",
    "        return self.n + other"
   ]
  },
  {
   "cell_type": "code",
   "execution_count": 107,
   "id": "3392c296-1582-4a34-9513-0ea173f1324a",
   "metadata": {},
   "outputs": [],
   "source": [
    "num = Num(10)"
   ]
  },
  {
   "cell_type": "code",
   "execution_count": 108,
   "id": "42d08d7f-1ca6-41c0-8c67-dabe4c3adc2a",
   "metadata": {},
   "outputs": [
    {
     "ename": "TypeError",
     "evalue": "unsupported operand type(s) for +: 'int' and 'Num'",
     "output_type": "error",
     "traceback": [
      "\u001b[0;31m---------------------------------------------------------------------------\u001b[0m",
      "\u001b[0;31mTypeError\u001b[0m                                 Traceback (most recent call last)",
      "Cell \u001b[0;32mIn[108], line 1\u001b[0m\n\u001b[0;32m----> 1\u001b[0m \u001b[38;5;241;43m10\u001b[39;49m\u001b[43m \u001b[49m\u001b[38;5;241;43m+\u001b[39;49m\u001b[43m \u001b[49m\u001b[43mnum\u001b[49m\n",
      "\u001b[0;31mTypeError\u001b[0m: unsupported operand type(s) for +: 'int' and 'Num'"
     ]
    }
   ],
   "source": [
    "10 + num"
   ]
  },
  {
   "cell_type": "code",
   "execution_count": 109,
   "id": "a1d511f7-edf1-469f-b43a-3958d3560271",
   "metadata": {},
   "outputs": [
    {
     "data": {
      "text/plain": [
       "20"
      ]
     },
     "execution_count": 109,
     "metadata": {},
     "output_type": "execute_result"
    }
   ],
   "source": [
    "num + 10"
   ]
  },
  {
   "cell_type": "code",
   "execution_count": 117,
   "id": "e005fbd4-49bd-47a3-a817-dbf818d524dd",
   "metadata": {},
   "outputs": [],
   "source": [
    "class Num:\n",
    "    def __init__(self, n):\n",
    "        self.n = n\n",
    "\n",
    "    def __add__(self, other):\n",
    "        print(\"left add call\")\n",
    "        return self.n + other\n",
    "\n",
    "    def __radd__(self, other):\n",
    "        print(\"radd call\")\n",
    "        return self.n + other"
   ]
  },
  {
   "cell_type": "code",
   "execution_count": 118,
   "id": "af841619-6000-48d7-8584-14fc04036d45",
   "metadata": {},
   "outputs": [],
   "source": [
    "num = Num(10)"
   ]
  },
  {
   "cell_type": "code",
   "execution_count": 119,
   "id": "c30a6ba2-5051-4425-90d8-8f2f193d16b2",
   "metadata": {},
   "outputs": [
    {
     "name": "stdout",
     "output_type": "stream",
     "text": [
      "left add call\n"
     ]
    },
    {
     "data": {
      "text/plain": [
       "20"
      ]
     },
     "execution_count": 119,
     "metadata": {},
     "output_type": "execute_result"
    }
   ],
   "source": [
    "num + 10"
   ]
  },
  {
   "cell_type": "code",
   "execution_count": 120,
   "id": "8cd67c77-6397-40fb-b1cc-f3eb127f8969",
   "metadata": {},
   "outputs": [
    {
     "name": "stdout",
     "output_type": "stream",
     "text": [
      "radd call\n"
     ]
    },
    {
     "data": {
      "text/plain": [
       "20"
      ]
     },
     "execution_count": 120,
     "metadata": {},
     "output_type": "execute_result"
    }
   ],
   "source": [
    "10 + num"
   ]
  },
  {
   "cell_type": "code",
   "execution_count": 122,
   "id": "08dd839c-dfe7-4b86-9b96-a760435afeee",
   "metadata": {},
   "outputs": [
    {
     "name": "stdout",
     "output_type": "stream",
     "text": [
      "left add call\n",
      "radd call\n"
     ]
    },
    {
     "data": {
      "text/plain": [
       "(20, 20)"
      ]
     },
     "execution_count": 122,
     "metadata": {},
     "output_type": "execute_result"
    }
   ],
   "source": [
    "num.__add__(10), num.__radd__(10)"
   ]
  },
  {
   "cell_type": "code",
   "execution_count": null,
   "id": "6289e2f2-9d40-47f7-a8b1-805049c75a2d",
   "metadata": {},
   "outputs": [],
   "source": []
  },
  {
   "cell_type": "code",
   "execution_count": null,
   "id": "9334c222-e440-4f03-9e02-ab4762432d33",
   "metadata": {},
   "outputs": [],
   "source": []
  },
  {
   "cell_type": "code",
   "execution_count": 124,
   "id": "af5ded8e-0e51-4463-920f-56e47c8ada9a",
   "metadata": {},
   "outputs": [],
   "source": [
    "class A:\n",
    "    pass\n",
    "\n",
    "class B(A):\n",
    "    pass\n",
    "\n",
    "class C(A):\n",
    "    pass\n",
    "\n",
    "class D(B, C):\n",
    "    pass"
   ]
  },
  {
   "cell_type": "code",
   "execution_count": 125,
   "id": "1ca565a3-11dd-4657-9c07-fdb0c66d3bea",
   "metadata": {},
   "outputs": [
    {
     "data": {
      "text/plain": [
       "[__main__.D, __main__.B, __main__.C, __main__.A, object]"
      ]
     },
     "execution_count": 125,
     "metadata": {},
     "output_type": "execute_result"
    }
   ],
   "source": [
    "D.mro()"
   ]
  },
  {
   "cell_type": "code",
   "execution_count": 126,
   "id": "ffc5f0ea-6d0d-4af2-86fc-0c5781c1ae75",
   "metadata": {},
   "outputs": [
    {
     "data": {
      "text/plain": [
       "(__main__.D, __main__.B, __main__.C, __main__.A, object)"
      ]
     },
     "execution_count": 126,
     "metadata": {},
     "output_type": "execute_result"
    }
   ],
   "source": [
    "D.__mro__"
   ]
  },
  {
   "cell_type": "code",
   "execution_count": 127,
   "id": "09bbea8d-40e7-4a93-b7e6-842a8196fa98",
   "metadata": {},
   "outputs": [
    {
     "ename": "TypeError",
     "evalue": "Cannot create a consistent method resolution\norder (MRO) for bases A, B",
     "output_type": "error",
     "traceback": [
      "\u001b[0;31m---------------------------------------------------------------------------\u001b[0m",
      "\u001b[0;31mTypeError\u001b[0m                                 Traceback (most recent call last)",
      "Cell \u001b[0;32mIn[127], line 1\u001b[0m\n\u001b[0;32m----> 1\u001b[0m \u001b[38;5;28;43;01mclass\u001b[39;49;00m\u001b[43m \u001b[49m\u001b[38;5;21;43;01mE\u001b[39;49;00m\u001b[43m(\u001b[49m\u001b[43mA\u001b[49m\u001b[43m,\u001b[49m\u001b[43m \u001b[49m\u001b[43mB\u001b[49m\u001b[43m)\u001b[49m\u001b[43m:\u001b[49m\n\u001b[1;32m      2\u001b[0m \u001b[43m    \u001b[49m\u001b[38;5;28;43;01mpass\u001b[39;49;00m\n",
      "\u001b[0;31mTypeError\u001b[0m: Cannot create a consistent method resolution\norder (MRO) for bases A, B"
     ]
    }
   ],
   "source": [
    "class E(A, B):\n",
    "    pass"
   ]
  },
  {
   "cell_type": "code",
   "execution_count": null,
   "id": "6b34aacf-d3b9-4c0e-8f3c-c782aa2c57c3",
   "metadata": {},
   "outputs": [],
   "source": []
  }
 ],
 "metadata": {
  "kernelspec": {
   "display_name": "Python 3 (ipykernel)",
   "language": "python",
   "name": "python3"
  },
  "language_info": {
   "codemirror_mode": {
    "name": "ipython",
    "version": 3
   },
   "file_extension": ".py",
   "mimetype": "text/x-python",
   "name": "python",
   "nbconvert_exporter": "python",
   "pygments_lexer": "ipython3",
   "version": "3.12.5"
  }
 },
 "nbformat": 4,
 "nbformat_minor": 5
}
